{
  "nbformat": 4,
  "nbformat_minor": 0,
  "metadata": {
    "colab": {
      "provenance": [],
      "authorship_tag": "ABX9TyOYCrhjvhumy93PEwvubufO",
      "include_colab_link": true
    },
    "kernelspec": {
      "name": "python3",
      "display_name": "Python 3"
    },
    "language_info": {
      "name": "python"
    }
  },
  "cells": [
    {
      "cell_type": "markdown",
      "metadata": {
        "id": "view-in-github",
        "colab_type": "text"
      },
      "source": [
        "<a href=\"https://colab.research.google.com/github/shivamvishal/ML/blob/main/LinearRegNumpy.ipynb\" target=\"_parent\"><img src=\"https://colab.research.google.com/assets/colab-badge.svg\" alt=\"Open In Colab\"/></a>"
      ]
    },
    {
      "cell_type": "code",
      "execution_count": 2,
      "metadata": {
        "id": "JUwtCsxmOCPO"
      },
      "outputs": [],
      "source": [
        "import numpy as np"
      ]
    },
    {
      "cell_type": "code",
      "source": [
        "# create some sample data\n",
        "np.random.seed(64)\n",
        "N = 10000\n",
        "theta = np.array([2, 5, 3])\n",
        "X = np.ones((N, 3))\n",
        "X[:,1:] = np.random.rand(N, 2)\n",
        "\n",
        "Y = X.dot(theta) + np.random.rand(N) # added noise"
      ],
      "metadata": {
        "id": "swfNifKq9wIY"
      },
      "execution_count": 49,
      "outputs": []
    },
    {
      "cell_type": "code",
      "source": [
        "theta_pred = np.linalg.inv(X.T.dot(X)).dot(X.T.dot(Y))"
      ],
      "metadata": {
        "id": "Zd_pTi5sr-gL"
      },
      "execution_count": 50,
      "outputs": []
    },
    {
      "cell_type": "code",
      "source": [
        "theta_pred"
      ],
      "metadata": {
        "colab": {
          "base_uri": "https://localhost:8080/"
        },
        "id": "oJbncn-JmWl2",
        "outputId": "d280f9ab-c92f-4369-ca6f-42c65e51e738"
      },
      "execution_count": 51,
      "outputs": [
        {
          "output_type": "execute_result",
          "data": {
            "text/plain": [
              "array([2.509135  , 4.99260355, 2.99061674])"
            ]
          },
          "metadata": {},
          "execution_count": 51
        }
      ]
    },
    {
      "cell_type": "code",
      "source": [],
      "metadata": {
        "id": "RtNJsD1-rniR"
      },
      "execution_count": null,
      "outputs": []
    }
  ]
}